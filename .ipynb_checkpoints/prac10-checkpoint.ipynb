{
 "cells": [
  {
   "cell_type": "code",
   "execution_count": 1,
   "metadata": {},
   "outputs": [],
   "source": [
    "import numpy\n",
    "import math\n",
    "from matplotlib import pyplot\n",
    "from scipy import integrate\n",
    "%matplotlib inline"
   ]
  },
  {
   "cell_type": "code",
   "execution_count": 2,
   "metadata": {},
   "outputs": [
    {
     "data": {
      "text/plain": [
       "(-0.1, 0.1)"
      ]
     },
     "execution_count": 2,
     "metadata": {},
     "output_type": "execute_result"
    },
    {
     "data": {
      "image/png": "[encoded data removed]",
      "text/plain": [
       "<Figure size 720x720 with 1 Axes>"
      ]
     },
     "metadata": {},
     "output_type": "display_data"
    }
   ],
   "source": [
    "x,y=numpy.loadtxt('naca0012.dat', unpack= True )\n",
    "width = 10\n",
    "pyplot.figure(figsize=(width, width))\n",
    "pyplot.grid()\n",
    "pyplot.plot(x,y)\n",
    "pyplot.axis('scaled', adjustable='box')\n",
    "pyplot.xlim(-0.1,1.1)\n",
    "pyplot.ylim(-0.1,0.1)\n"
   ]
  },
  {
   "cell_type": "code",
   "execution_count": 6,
   "metadata": {},
   "outputs": [],
   "source": [
    "class Panel:\n",
    "    def __init__(self, xa, ya, xb, yb):\n",
    "        self.xa, self.ya = xa, ya\n",
    "        self.xb, self.yb = xb, yb\n",
    "        self.xc, self.yc = (xa+xb)/2, (ya+yb)/2\n",
    "        self.length = math.sqrt((xb-xa)**2+(yb-ya)**2)\n",
    "        \n",
    "        if xb - xa <= 0.0:\n",
    "            self.beta = math.acos((yb - ya)/self.length)\n",
    "        else:\n",
    "            self.beta = math.pi + math.acos(-(yb - ya)/self.length)\n",
    "            \n",
    "        if self.beta <= math.pi:\n",
    "            self.loc = 'upper'\n",
    "        else:\n",
    "            self.loc = 'lower'\n",
    "            \n",
    "        self.sigma = 0.0\n",
    "        self.vt = 0.0\n",
    "        self.cp = 0.0"
   ]
  },
  {
   "cell_type": "code",
   "execution_count": 10,
   "metadata": {},
   "outputs": [],
   "source": [
    "def air_panel(x,y, N_panel):\n",
    "    R = (x.max() - x.min())/2\n",
    "    x_center = (x.max() + x.min())/2\n",
    "    x_circle = x_center + R * numpy.cos(numpy.linspace(0,2*math.pi, N_panel+1))\n",
    "    \n",
    "    x_ends = numpy.copy(x_circle)\n",
    "    y_ends = numpy.zeros_like(x_ends)\n",
    "    \n",
    "    x, y = numpy.append(x, x[0]), numpy.append(y, y[0])\n",
    "    \n",
    "    I=0\n",
    "    for i in range(N_panel):\n",
    "        while I < len(x) - 1:\n",
    "            if (x[I] <= x_ends[i] <= x[I + 1]) or (x[I + 1] <= x_ends[i] <= x[I]):\n",
    "                break\n",
    "            else:\n",
    "                I += 1\n",
    "        a = (y[I + 1] - y[I]) / (x[I + 1] - x[I])\n",
    "        b = y[I + 1] - a * x[I + 1]\n",
    "        y_ends[i] = a * x_ends[i] + b\n",
    "    y_ends[N] = y_ends[0]\n",
    "    panels = numpy.empty(N_panel, dtype=object)\n",
    "    for i in range(N):\n",
    "        panels[i] = Panel(x_ends[i], y_ends[i], x_ends[i+1], y_ends[i+1])\n",
    "    \n",
    "    return panels"
   ]
  },
  {
   "cell_type": "code",
   "execution_count": 50,
   "metadata": {},
   "outputs": [
    {
     "data": {
      "text/plain": [
       "(40,)"
      ]
     },
     "execution_count": 50,
     "metadata": {},
     "output_type": "execute_result"
    },
    {
     "data": {
      "image/png": "[encoded data removed]",
      "text/plain": [
       "<Figure size 720x720 with 1 Axes>"
      ]
     },
     "metadata": {},
     "output_type": "display_data"
    }
   ],
   "source": [
    "N = 40\n",
    "panels = air_panel(x,y, N)\n",
    "\n",
    "width = 10\n",
    "pyplot.figure(figsize=(width, width))\n",
    "pyplot.grid()\n",
    "pyplot.xlabel('x', fontsize=16)\n",
    "pyplot.ylabel('y', fontsize=16)\n",
    "pyplot.plot(x, y, color='k', linestyle='-', linewidth=2)\n",
    "pyplot.plot(numpy.append([panel.xa for panel in panels], panels[0].xa),\n",
    "            numpy.append([panel.ya for panel in panels], panels[0].ya),\n",
    "            linestyle='-', linewidth=1, marker='o', markersize=6, color='#CD2305')\n",
    "pyplot.axis('scaled', adjustable='box')\n",
    "pyplot.xlim(-0.1, 1.1)\n",
    "pyplot.ylim(-0.1, 0.1);\n",
    "panels.shape"
   ]
  },
  {
   "cell_type": "code",
   "execution_count": 45,
   "metadata": {},
   "outputs": [],
   "source": [
    "class Freestream:\n",
    "    \n",
    "    def __init__(self, u_inf, alpha):\n",
    "        self.u_inf = u_inf\n",
    "        self.alpha = numpy.radians(alpha)\n",
    "    \n",
    "u_inf = 1.0                            # freestream spee\n",
    "alpha = 0.0                            # angle of attack (in degrees)\n",
    "freestream = Freestream(u_inf, alpha)    "
   ]
  },
  {
   "cell_type": "code",
   "execution_count": 52,
   "metadata": {},
   "outputs": [],
   "source": [
    "def integral(x,y, panel, dxdz, dydz):\n",
    "    \n",
    "    def integrand(s):\n",
    "        a = x - (panel.xa - numpy.sin(panel.beta)*s)\n",
    "        b = y - (panel.ya + numpy.cos(panel.beta)*s)\n",
    "        return (a * dxdz + b * dydz) / (a**2+b**2)    \n",
    "    return integrate.quad(integrand, 0.0, panel.length)[0]"
   ]
  },
  {
   "cell_type": "code",
   "execution_count": 57,
   "metadata": {},
   "outputs": [],
   "source": [
    "def build_system(panels):\n",
    "    N = len(panels)\n",
    "    A = numpy.empty((N,N), dtype = float)\n",
    "    numpy.fill_diagonal(A, 0.5)\n",
    "    \n",
    "    for i, p_i in enumerate (panels):\n",
    "        for j, p_j in enumerate(panels):\n",
    "            if i!=j:\n",
    "                A[i,j] = 0.5 / math.pi * integral(p_i.xc, p_i.yc, p_j, numpy.cos(p_i.beta), numpy.sin(p_i.beta))\n",
    "                \n",
    "    return A\n",
    "\n",
    "def build_rhs(panels, freestream):\n",
    "    b = numpy.empty(len(panels), dtype=float)\n",
    "    \n",
    "    for i, panel in enumerate(panels):\n",
    "        b[i] = -freestream.u_inf * math.cos(freestream.alpha - panel.beta)\n",
    "        \n",
    "    return b"
   ]
  },
  {
   "cell_type": "code",
   "execution_count": 58,
   "metadata": {},
   "outputs": [],
   "source": [
    "A = build_system(panels)\n",
    "b = build_rhs(panels, freestream) "
   ]
  },
  {
   "cell_type": "code",
   "execution_count": 62,
   "metadata": {},
   "outputs": [
    {
     "data": {
      "text/plain": [
       "array([-0.33488872, -0.12626779, -0.13248534, -0.13177484, -0.12859412,\n",
       "       -0.12410051, -0.11842995, -0.11154366, -0.1022228 , -0.09034497,\n",
       "       -0.07396879, -0.05136789, -0.01876104,  0.02311481,  0.07805434,\n",
       "        0.15026039,  0.25574026,  0.41447699,  0.71236524,  1.26886672,\n",
       "        1.26886672,  0.71236524,  0.41447699,  0.25574026,  0.15026039,\n",
       "        0.07805434,  0.02311481, -0.01876104, -0.05136789, -0.07396879,\n",
       "       -0.09034497, -0.1022228 , -0.11154366, -0.11842995, -0.12410051,\n",
       "       -0.12859412, -0.13177484, -0.13248534, -0.12626779, -0.33488872])"
      ]
     },
     "execution_count": 62,
     "metadata": {},
     "output_type": "execute_result"
    }
   ],
   "source": [
    "sigma = numpy.linalg.solve(A, b)\n",
    "\n",
    "for i, panel in enumerate(panels):\n",
    "    panel.sigma = sigma[i]\n",
    "sigma"
   ]
  },
  {
   "cell_type": "code",
   "execution_count": 64,
   "metadata": {},
   "outputs": [
    {
     "data": {
      "text/plain": [
       "array([-0.33488872, -0.12626779, -0.13248534, -0.13177484, -0.12859412,\n",
       "       -0.12410051, -0.11842995, -0.11154366, -0.1022228 , -0.09034497,\n",
       "       -0.07396879, -0.05136789, -0.01876104,  0.02311481,  0.07805434,\n",
       "        0.15026039,  0.25574026,  0.41447699,  0.71236524,  1.26886672,\n",
       "        1.26886672,  0.71236524,  0.41447699,  0.25574026,  0.15026039,\n",
       "        0.07805434,  0.02311481, -0.01876104, -0.05136789, -0.07396879,\n",
       "       -0.09034497, -0.1022228 , -0.11154366, -0.11842995, -0.12410051,\n",
       "       -0.12859412, -0.13177484, -0.13248534, -0.12626779, -0.33488872])"
      ]
     },
     "execution_count": 64,
     "metadata": {},
     "output_type": "execute_result"
    }
   ],
   "source": [
    "def tangential_velocity(panels, freestream):\n",
    "    \n",
    "    N = len(panels)\n",
    "    A = numpy.empty((N, N), dtype=float)\n",
    "    numpy.fill_diagonal(A, 0.0)\n",
    "    \n",
    "    for i, p_i in enumerate(panels):\n",
    "        for j, p_j in enumerate(panels):\n",
    "            if i != j:\n",
    "                A[i, j] = 0.5 / math.pi * integral(p_i.xc, p_i.yc, p_j,\n",
    "                                                   -math.sin(p_i.beta),\n",
    "                                                   math.cos(p_i.beta))\n",
    "    \n",
    "    b = freestream.u_inf * numpy.sin([freestream.alpha - panel.beta \n",
    "                                      for panel in panels])\n",
    "    \n",
    "    sigma = numpy.array([panel.sigma for panel in panels])\n",
    "    \n",
    "    vt = numpy.dot(A, sigma) + b\n",
    "    \n",
    "    for i, panel in enumerate(panels):\n",
    "        panel.vt = vt[i]"
   ]
  },
  {
   "cell_type": "code",
   "execution_count": 65,
   "metadata": {},
   "outputs": [],
   "source": [
    "tangential_velocity(panels, freestream)"
   ]
  },
  {
   "cell_type": "code",
   "execution_count": 66,
   "metadata": {},
   "outputs": [],
   "source": [
    "def pressure_coefficient(panels, freestream):\n",
    "    for panel in panels:\n",
    "        \n",
    "        panels.cp = 1 - (panel.vt/ freestream.u_inf)**2"
   ]
  },
  {
   "cell_type": "code",
   "execution_count": null,
   "metadata": {},
   "outputs": [],
   "source": [
    "pressure_coefficient(panels, freestream)"
   ]
  }
 ],
 "metadata": {
  "kernelspec": {
   "display_name": "Python 3",
   "language": "python",
   "name": "python3"
  },
  "language_info": {
   "codemirror_mode": {
    "name": "ipython",
    "version": 3
   },
   "file_extension": ".py",
   "mimetype": "text/x-python",
   "name": "python",
   "nbconvert_exporter": "python",
   "pygments_lexer": "ipython3",
   "version": "3.6.2"
  }
 },
 "nbformat": 4,
 "nbformat_minor": 2
}
