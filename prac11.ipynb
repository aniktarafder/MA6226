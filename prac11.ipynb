{
 "cells": [
  {
   "cell_type": "code",
   "execution_count": 1,
   "metadata": {},
   "outputs": [],
   "source": [
    "import math\n",
    "import numpy\n",
    "from scipy import integrate, linalg\n",
    "from matplotlib import pyplot\n",
    "%matplotlib inline"
   ]
  },
  {
   "cell_type": "code",
   "execution_count": 2,
   "metadata": {},
   "outputs": [
    {
     "data": {
      "image/png": "[encoded data removed]",
      "text/plain": [
       "<Figure size 720x720 with 1 Axes>"
      ]
     },
     "metadata": {},
     "output_type": "display_data"
    }
   ],
   "source": [
    "x,y=numpy.loadtxt('naca0012.dat', unpack= True )\n",
    "width = 10\n",
    "pyplot.figure(figsize=(width, width))\n",
    "pyplot.grid()\n",
    "pyplot.xlabel('x', fontsize=16)\n",
    "pyplot.ylabel('y', fontsize=16)\n",
    "pyplot.plot(x, y, color='k', linestyle='-', linewidth=2)\n",
    "pyplot.axis('scaled', adjustable='box')\n",
    "pyplot.xlim(-0.1, 1.1)\n",
    "pyplot.ylim(-0.1, 0.1);"
   ]
  },
  {
   "cell_type": "code",
   "execution_count": 3,
   "metadata": {},
   "outputs": [],
   "source": [
    "class Panel:\n",
    "    def __init__(self, xa, ya, xb, yb):\n",
    "        self.xa, self.ya = xa, ya\n",
    "        self.xb, self.yb = xb, yb\n",
    "        self.xc, self.yc = (xa+xb)/2, (ya+yb)/2\n",
    "        self.length = math.sqrt((xb-xa)**2+(yb-ya)**2)\n",
    "        \n",
    "        if xb - xa <= 0.0:\n",
    "            self.beta = math.acos((yb - ya)/self.length)\n",
    "        else:\n",
    "            self.beta = math.pi + math.acos(-(yb - ya)/self.length)\n",
    "            \n",
    "        if self.beta <= math.pi:\n",
    "            self.loc = 'upper'\n",
    "        else:\n",
    "            self.loc = 'lower'\n",
    "            \n",
    "        self.sigma = 0.0\n",
    "        self.vt = 0.0\n",
    "        self.cp = 0.0"
   ]
  },
  {
   "cell_type": "code",
   "execution_count": 4,
   "metadata": {},
   "outputs": [],
   "source": [
    "def air_panel(x,y, N_panel):\n",
    "    R = (x.max() - x.min())/2\n",
    "    x_center = (x.max() + x.min())/2\n",
    "    x_circle = x_center + R * numpy.cos(numpy.linspace(0,2*math.pi, N_panel+1))\n",
    "    \n",
    "    x_ends = numpy.copy(x_circle)\n",
    "    y_ends = numpy.zeros_like(x_ends)\n",
    "    \n",
    "    x, y = numpy.append(x, x[0]), numpy.append(y, y[0])\n",
    "    \n",
    "    I=0\n",
    "    for i in range(N_panel):\n",
    "        while I < len(x) - 1:\n",
    "            if (x[I] <= x_ends[i] <= x[I + 1]) or (x[I + 1] <= x_ends[i] <= x[I]):\n",
    "                break\n",
    "            else:\n",
    "                I += 1\n",
    "        a = (y[I + 1] - y[I]) / (x[I + 1] - x[I])\n",
    "        b = y[I + 1] - a * x[I + 1]\n",
    "        y_ends[i] = a * x_ends[i] + b\n",
    "    y_ends[N] = y_ends[0]\n",
    "    panels = numpy.empty(N_panel, dtype=object)\n",
    "    for i in range(N):\n",
    "        panels[i] = Panel(x_ends[i], y_ends[i], x_ends[i+1], y_ends[i+1])\n",
    "    \n",
    "    return panels"
   ]
  },
  {
   "cell_type": "code",
   "execution_count": 5,
   "metadata": {},
   "outputs": [],
   "source": [
    "N=40\n",
    "panels = air_panel(x, y, N)"
   ]
  },
  {
   "cell_type": "code",
   "execution_count": 6,
   "metadata": {},
   "outputs": [
    {
     "data": {
      "image/png": "[encoded data removed]",
      "text/plain": [
       "<Figure size 720x720 with 1 Axes>"
      ]
     },
     "metadata": {},
     "output_type": "display_data"
    }
   ],
   "source": [
    "width = 10\n",
    "pyplot.figure(figsize=(width, width))\n",
    "pyplot.grid()\n",
    "pyplot.xlabel('x', fontsize=16)\n",
    "pyplot.ylabel('y', fontsize=16)\n",
    "pyplot.plot(x, y, color='k', linestyle='-', linewidth=2)\n",
    "pyplot.plot(numpy.append([panel.xa for panel in panels], panels[0].xa),\n",
    "            numpy.append([panel.ya for panel in panels], panels[0].ya),\n",
    "            linestyle='-', linewidth=1, marker='o', markersize=6, color='#CD2305')\n",
    "pyplot.axis('scaled', adjustable='box')\n",
    "pyplot.xlim(-0.1, 1.1)\n",
    "pyplot.ylim(-0.1, 0.1);"
   ]
  },
  {
   "cell_type": "code",
   "execution_count": 8,
   "metadata": {},
   "outputs": [],
   "source": [
    "class Freestream:\n",
    "    \n",
    "    def __init__(self, u_inf, alpha):\n",
    "        self.u_inf = u_inf\n",
    "        self.alpha = numpy.radians(alpha)\n",
    "    \n",
    "u_inf = 1.0             \n",
    "alpha = 0.0                            \n",
    "freestream = Freestream(u_inf, alpha)"
   ]
  },
  {
   "cell_type": "code",
   "execution_count": 9,
   "metadata": {},
   "outputs": [],
   "source": [
    "def integral(x, y, panel, dxdk, dydk):\n",
    "    def integrand(s):\n",
    "        return (((x - (panel.xa - numpy.sin(panel.beta) * s)) * dxdk +\n",
    "                 (y - (panel.ya + numpy.cos(panel.beta) * s)) * dydk) /\n",
    "                ((x - (panel.xa - numpy.sin(panel.beta) * s))**2 +\n",
    "                 (y - (panel.ya + numpy.cos(panel.beta) * s))**2) )\n",
    "    return integrate.quad(integrand, 0.0, panel.length)[0]"
   ]
  },
  {
   "cell_type": "code",
   "execution_count": 16,
   "metadata": {},
   "outputs": [],
   "source": [
    "def source_contribution_normal(panels):\n",
    "   \n",
    "    A = numpy.empty((panels.size, panels.size), dtype=float)\n",
    "\n",
    "    numpy.fill_diagonal(A, 0.5)\n",
    "   \n",
    "    for i, panel_i in enumerate(panels):\n",
    "        for j, panel_j in enumerate(panels):\n",
    "            if i != j:\n",
    "                A[i, j] = 0.5 / numpy.pi * integral(panel_i.xc, panel_i.yc, \n",
    "                                                    panel_j,\n",
    "                                                    numpy.cos(panel_i.beta),\n",
    "                                                    numpy.sin(panel_i.beta))\n",
    "    return A"
   ]
  },
  {
   "cell_type": "code",
   "execution_count": 17,
   "metadata": {},
   "outputs": [],
   "source": [
    "def vortex_contribution_normal(panels):\n",
    "    A = numpy.empty((panels.size, panels.size), dtype=float)\n",
    "    \n",
    "    numpy.fill_diagonal(A, 0.0)\n",
    "    \n",
    "    for i, panel_i in enumerate(panels):\n",
    "        for j, panel_j in enumerate(panels):\n",
    "            if i != j:\n",
    "                A[i, j] = -0.5 / numpy.pi * integral(panel_i.xc, panel_i.yc, \n",
    "                                                     panel_j,\n",
    "                                                     numpy.sin(panel_i.beta),\n",
    "                                                     -numpy.cos(panel_i.beta))\n",
    "    return A\n",
    "    "
   ]
  },
  {
   "cell_type": "code",
   "execution_count": 18,
   "metadata": {},
   "outputs": [],
   "source": [
    "A_source = source_contribution_normal(panels)\n",
    "B_vortex = vortex_contribution_normal(panels)"
   ]
  },
  {
   "cell_type": "code",
   "execution_count": null,
   "metadata": {},
   "outputs": [],
   "source": []
  }
 ],
 "metadata": {
  "kernelspec": {
   "display_name": "Python 3",
   "language": "python",
   "name": "python3"
  },
  "language_info": {
   "codemirror_mode": {
    "name": "ipython",
    "version": 3
   },
   "file_extension": ".py",
   "mimetype": "text/x-python",
   "name": "python",
   "nbconvert_exporter": "python",
   "pygments_lexer": "ipython3",
   "version": "3.6.2"
  }
 },
 "nbformat": 4,
 "nbformat_minor": 2
}
